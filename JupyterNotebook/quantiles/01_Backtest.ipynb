{
  "cells": [
    {
      "cell_type": "markdown",
      "id": "intro_and_recap",
      "metadata": {},
      "source": [
        "# From Theory to Practice: Backtesting Our Quantile Idea\n",
        "\n",
        "### So, Do Quantiles Actually Work?\n",
        "\n",
        "In the last notebook, we came up with a neat idea: use quantiles to figure out a \"probable\" range for a candle's price movement. The logical next step is to ask the million-dollar question: can we actually make money with this?\n",
        "\n",
        "To find out, I've used backtesting to see how different high/low percentile choices affect the win rate. Now, I understand this is a quiet, simple, and flawed representation of how the market works, but it's a starting point. And as we'll see, even simple models can show some interesting data. Let's build a strategy using the `backtesting.py` library and see if our theory holds any water."
      ]
    },
    {
      "cell_type": "code",
      "execution_count": 1,
      "id": "pip_install_backtesting",
      "metadata": {},
      "outputs": [
        {
          "name": "stdout",
          "output_type": "stream",
          "text": [
            "Requirement already satisfied: backtesting in /home/ed/Davit/Projects/QuantitativeFindings/.venv/lib/python3.10/site-packages (0.6.5)\n",
            "Requirement already satisfied: yfinance in /home/ed/Davit/Projects/QuantitativeFindings/.venv/lib/python3.10/site-packages (0.2.65)\n",
            "Requirement already satisfied: pandas in /home/ed/Davit/Projects/QuantitativeFindings/.venv/lib/python3.10/site-packages (2.3.2)\n",
            "Requirement already satisfied: numpy>=1.17.0 in /home/ed/Davit/Projects/QuantitativeFindings/.venv/lib/python3.10/site-packages (from backtesting) (2.2.6)\n",
            "Requirement already satisfied: bokeh!=3.0.*,!=3.2.*,>=3.0.0 in /home/ed/Davit/Projects/QuantitativeFindings/.venv/lib/python3.10/site-packages (from backtesting) (3.8.0)\n",
            "Requirement already satisfied: requests>=2.31 in /home/ed/Davit/Projects/QuantitativeFindings/.venv/lib/python3.10/site-packages (from yfinance) (2.32.5)\n",
            "Requirement already satisfied: multitasking>=0.0.7 in /home/ed/Davit/Projects/QuantitativeFindings/.venv/lib/python3.10/site-packages (from yfinance) (0.0.12)\n",
            "Requirement already satisfied: platformdirs>=2.0.0 in /home/ed/Davit/Projects/QuantitativeFindings/.venv/lib/python3.10/site-packages (from yfinance) (4.4.0)\n",
            "Requirement already satisfied: pytz>=2022.5 in /home/ed/Davit/Projects/QuantitativeFindings/.venv/lib/python3.10/site-packages (from yfinance) (2025.2)\n",
            "Requirement already satisfied: frozendict>=2.3.4 in /home/ed/Davit/Projects/QuantitativeFindings/.venv/lib/python3.10/site-packages (from yfinance) (2.4.6)\n",
            "Requirement already satisfied: peewee>=3.16.2 in /home/ed/Davit/Projects/QuantitativeFindings/.venv/lib/python3.10/site-packages (from yfinance) (3.18.2)\n",
            "Requirement already satisfied: beautifulsoup4>=4.11.1 in /home/ed/Davit/Projects/QuantitativeFindings/.venv/lib/python3.10/site-packages (from yfinance) (4.13.5)\n",
            "Requirement already satisfied: curl_cffi>=0.7 in /home/ed/Davit/Projects/QuantitativeFindings/.venv/lib/python3.10/site-packages (from yfinance) (0.13.0)\n",
            "Requirement already satisfied: protobuf>=3.19.0 in /home/ed/Davit/Projects/QuantitativeFindings/.venv/lib/python3.10/site-packages (from yfinance) (6.32.1)\n",
            "Requirement already satisfied: websockets>=13.0 in /home/ed/Davit/Projects/QuantitativeFindings/.venv/lib/python3.10/site-packages (from yfinance) (15.0.1)\n",
            "Requirement already satisfied: python-dateutil>=2.8.2 in /home/ed/Davit/Projects/QuantitativeFindings/.venv/lib/python3.10/site-packages (from pandas) (2.9.0.post0)\n",
            "Requirement already satisfied: tzdata>=2022.7 in /home/ed/Davit/Projects/QuantitativeFindings/.venv/lib/python3.10/site-packages (from pandas) (2025.2)\n",
            "Requirement already satisfied: soupsieve>1.2 in /home/ed/Davit/Projects/QuantitativeFindings/.venv/lib/python3.10/site-packages (from beautifulsoup4>=4.11.1->yfinance) (2.8)\n",
            "Requirement already satisfied: typing-extensions>=4.0.0 in /home/ed/Davit/Projects/QuantitativeFindings/.venv/lib/python3.10/site-packages (from beautifulsoup4>=4.11.1->yfinance) (4.15.0)\n",
            "Requirement already satisfied: Jinja2>=2.9 in /home/ed/Davit/Projects/QuantitativeFindings/.venv/lib/python3.10/site-packages (from bokeh!=3.0.*,!=3.2.*,>=3.0.0->backtesting) (3.1.6)\n",
            "Requirement already satisfied: contourpy>=1.2 in /home/ed/Davit/Projects/QuantitativeFindings/.venv/lib/python3.10/site-packages (from bokeh!=3.0.*,!=3.2.*,>=3.0.0->backtesting) (1.3.2)\n",
            "Requirement already satisfied: narwhals>=1.13 in /home/ed/Davit/Projects/QuantitativeFindings/.venv/lib/python3.10/site-packages (from bokeh!=3.0.*,!=3.2.*,>=3.0.0->backtesting) (2.5.0)\n",
            "Requirement already satisfied: packaging>=16.8 in /home/ed/Davit/Projects/QuantitativeFindings/.venv/lib/python3.10/site-packages (from bokeh!=3.0.*,!=3.2.*,>=3.0.0->backtesting) (25.0)\n",
            "Requirement already satisfied: pillow>=7.1.0 in /home/ed/Davit/Projects/QuantitativeFindings/.venv/lib/python3.10/site-packages (from bokeh!=3.0.*,!=3.2.*,>=3.0.0->backtesting) (11.3.0)\n",
            "Requirement already satisfied: PyYAML>=3.10 in /home/ed/Davit/Projects/QuantitativeFindings/.venv/lib/python3.10/site-packages (from bokeh!=3.0.*,!=3.2.*,>=3.0.0->backtesting) (6.0.2)\n",
            "Requirement already satisfied: tornado>=6.2 in /home/ed/Davit/Projects/QuantitativeFindings/.venv/lib/python3.10/site-packages (from bokeh!=3.0.*,!=3.2.*,>=3.0.0->backtesting) (6.5.2)\n",
            "Requirement already satisfied: xyzservices>=2021.09.1 in /home/ed/Davit/Projects/QuantitativeFindings/.venv/lib/python3.10/site-packages (from bokeh!=3.0.*,!=3.2.*,>=3.0.0->backtesting) (2025.4.0)\n",
            "Requirement already satisfied: cffi>=1.12.0 in /home/ed/Davit/Projects/QuantitativeFindings/.venv/lib/python3.10/site-packages (from curl_cffi>=0.7->yfinance) (2.0.0)\n",
            "Requirement already satisfied: certifi>=2024.2.2 in /home/ed/Davit/Projects/QuantitativeFindings/.venv/lib/python3.10/site-packages (from curl_cffi>=0.7->yfinance) (2025.8.3)\n",
            "Requirement already satisfied: pycparser in /home/ed/Davit/Projects/QuantitativeFindings/.venv/lib/python3.10/site-packages (from cffi>=1.12.0->curl_cffi>=0.7->yfinance) (2.23)\n",
            "Requirement already satisfied: MarkupSafe>=2.0 in /home/ed/Davit/Projects/QuantitativeFindings/.venv/lib/python3.10/site-packages (from Jinja2>=2.9->bokeh!=3.0.*,!=3.2.*,>=3.0.0->backtesting) (3.0.2)\n",
            "Requirement already satisfied: six>=1.5 in /home/ed/Davit/Projects/QuantitativeFindings/.venv/lib/python3.10/site-packages (from python-dateutil>=2.8.2->pandas) (1.17.0)\n",
            "Requirement already satisfied: charset_normalizer<4,>=2 in /home/ed/Davit/Projects/QuantitativeFindings/.venv/lib/python3.10/site-packages (from requests>=2.31->yfinance) (3.4.3)\n",
            "Requirement already satisfied: idna<4,>=2.5 in /home/ed/Davit/Projects/QuantitativeFindings/.venv/lib/python3.10/site-packages (from requests>=2.31->yfinance) (3.10)\n",
            "Requirement already satisfied: urllib3<3,>=1.21.1 in /home/ed/Davit/Projects/QuantitativeFindings/.venv/lib/python3.10/site-packages (from requests>=2.31->yfinance) (2.5.0)\n",
            "Note: you may need to restart the kernel to use updated packages.\n"
          ]
        }
      ],
      "source": [
        "# First, let's get the necessary tools for the job.\n",
        "%pip install backtesting yfinance pandas"
      ]
    },
    {
      "cell_type": "markdown",
      "id": "strategy_explanation",
      "metadata": {},
      "source": [
        "### Building the strategy\n",
        "\n",
        "Here's the game plan. We'll create a strategy that does the following for every candle:\n",
        "1.  **Look Back:** It will look at all the *past* candles to calculate the percentage price moves (just like we did manually).\n",
        "2.  **Calculate Quantiles:** Based on that history, it will calculate a quantile value (e.g., the 50th percentile) for both upward and downward moves. This gives us our dynamic thresholds.\n",
        "3.  **Set TP and SL:** It will place a new trade using the current price and set a Take Profit (TP) and Stop Loss (SL) based on those quantile thresholds.\n",
        "\n",
        "The beauty is that the TP and SL are no longer fixed numbers; they adapt as the bot sees more and more data. Let's code it up."
      ]
    },
    {
      "cell_type": "code",
      "execution_count": null,
      "id": "strategy_code",
      "metadata": {},
      "outputs": [],
      "source": [
        "import math\n",
        "import pandas as pd\n",
        "from backtesting import Strategy\n",
        "\n",
        "class QuantileStrategy(Strategy):\n",
        "    h_percentile = None  # Take Profit quantile\n",
        "    l_percentile = None  # Stop Loss quantile\n",
        "    mode = \"long\"        # \"long\" or \"short\"\n",
        "\n",
        "    @staticmethod\n",
        "    def default_func(series: pd.Series, q: float) -> pd.Series:\n",
        "        \"\"\"Expanding quantile of a series.\"\"\"\n",
        "        return series.expanding(min_periods=10).quantile(q)\n",
        "\n",
        "    func = default_func\n",
        "\n",
        "    def init(self):\n",
        "        self.mode_coef = 1 if self.mode == \"long\" else -1\n",
        "        self.mode_trade = self.buy if self.mode == \"long\" else self.sell\n",
        "\n",
        "        o, h, l = self.data.Open, self.data.High, self.data.Low\n",
        "\n",
        "        # Relative intrabar moves, shifted to avoid lookahead bias\n",
        "        h_move = pd.Series((h - o) / o).shift(1)\n",
        "        l_move = pd.Series((o - l) / o).shift(1)\n",
        "\n",
        "        # Dynamic thresholds\n",
        "        self.h_threshold = self.I(self.func, h_move, self.h_percentile) if self.h_percentile else None\n",
        "        self.l_threshold = self.I(self.func, l_move, self.l_percentile) if self.l_percentile else None\n",
        "\n",
        "    def next(self):\n",
        "        if len(self.data) < 10:\n",
        "            return\n",
        "\n",
        "        price = self.data.Close[-1]\n",
        "        h, l = self.h_threshold[-1], self.l_threshold[-1]\n",
        "\n",
        "        if pd.isna(h) and pd.isna(l):\n",
        "            return\n",
        "\n",
        "        # If a percentile is None, set TP/SL to infinity\n",
        "        tp = price * (1 + h * self.mode_coef) if h is not None else math.inf * self.mode_coef\n",
        "        sl = price * (1 - l * self.mode_coef) if l is not None else -math.inf * self.mode_coef\n",
        "\n",
        "        if self.position:\n",
        "            self.position.close()\n",
        "\n",
        "        # Sanity check: don't enter a trade if price is already outside SL/TP\n",
        "        if sl * self.mode_coef < price * self.mode_coef < tp * self.mode_coef:\n",
        "            self.mode_trade(\n",
        "                tp=None if math.isinf(tp) else tp,\n",
        "                sl=None if math.isinf(sl) else sl,\n",
        "                size=1,\n",
        "            )"
      ]
    },
    {
      "cell_type": "markdown",
      "id": "backtest_execution_markdown",
      "metadata": {},
      "source": [
        "### The Moment of Truth\n",
        "\n",
        "Alright, the bot is coded. It's time to download some fresh data, plug in our strategy, and see how much theoretical money we made (or, more likely, lost). We'll start by setting our Stop Loss at the 50th percentile, meaning we're placing it at the *median* down move. For now, we'll leave the Take Profit open."
      ]
    },
    {
      "cell_type": "code",
      "execution_count": 26,
      "id": "backtest_execution_code",
      "metadata": {},
      "outputs": [
        {
          "name": "stdout",
          "output_type": "stream",
          "text": [
            "Fetching data for the grand experiment...\n"
          ]
        },
        {
          "name": "stderr",
          "output_type": "stream",
          "text": [
            "/tmp/ipykernel_11855/1916933722.py:10: FutureWarning: YF.download() has changed argument auto_adjust default to True\n",
            "  data = yf.download(tickers=tickers, period=period, interval=interval, multi_level_index=False)\n",
            "[*********************100%***********************]  1 of 1 completed"
          ]
        },
        {
          "name": "stdout",
          "output_type": "stream",
          "text": [
            "\n",
            "--- Backtest Results ---\n",
            "Start                     2025-08-19 22:00...\n",
            "End                       2025-09-19 20:00...\n",
            "Duration                     30 days 22:00:00\n",
            "Exposure Time [%]                     2.96443\n",
            "Equity Final [$]                   9989.57052\n",
            "Equity Peak [$]                       10000.0\n",
            "Return [%]                           -0.10429\n",
            "Buy & Hold Return [%]                10.43021\n",
            "Return (Ann.) [%]                    -0.93475\n",
            "Volatility (Ann.) [%]                 0.23574\n",
            "CAGR [%]                             -0.84694\n",
            "Sharpe Ratio                          -3.9652\n",
            "Sortino Ratio                        -3.87178\n",
            "Calmar Ratio                         -8.96255\n",
            "Alpha [%]                            -0.10987\n",
            "Beta                                  0.00053\n",
            "Max. Drawdown [%]                    -0.10429\n",
            "Avg. Drawdown [%]                    -0.10429\n",
            "Max. Drawdown Duration       30 days 11:00:00\n",
            "Avg. Drawdown Duration       30 days 11:00:00\n",
            "# Trades                                   15\n",
            "Win Rate [%]                         46.66667\n",
            "Best Trade [%]                        0.01023\n",
            "Worst Trade [%]                      -0.05053\n",
            "Avg. Trade [%]                       -0.02053\n",
            "Max. Trade Duration           0 days 00:00:00\n",
            "Avg. Trade Duration           0 days 00:00:00\n",
            "Profit Factor                         0.13809\n",
            "Expectancy [%]                       -0.02053\n",
            "SQN                                  -2.95288\n",
            "Kelly Criterion                      -2.91719\n",
            "_strategy                 QuantileStrategy...\n",
            "_equity_curve                             ...\n",
            "_trades                       Size  EntryB...\n",
            "dtype: object\n"
          ]
        },
        {
          "name": "stderr",
          "output_type": "stream",
          "text": [
            "\n"
          ]
        }
      ],
      "source": [
        "import yfinance as yf\n",
        "from backtesting import Backtest\n",
        "\n",
        "# Let's grab some data for Gold again.\n",
        "tickers = [\"GC=F\"]\n",
        "period = \"1mo\"\n",
        "interval = \"1h\"\n",
        "\n",
        "print(\"Fetching data for the grand experiment...\")\n",
        "data = yf.download(tickers=tickers, period=period, interval=interval, multi_level_index=False)\n",
        "\n",
        "# Initialize the backtest environment.\n",
        "bt = Backtest(data, QuantileStrategy, cash=10000)\n",
        "\n",
        "# Run the backtest. We'll set the stop-loss percentile to 0.5 (the 50% quantile).\n",
        "result = bt.run(h_percentile=0.01, l_percentile=0.56)\n",
        "\n",
        "print(\"\\n--- Backtest Results ---\")\n",
        "print(result)"
      ]
    },
    {
      "cell_type": "markdown",
      "id": "conclusion_and_future",
      "metadata": {},
      "source": [
        "### The Verdict and What's Next\n",
        "\n",
        "So, there are the results. Genius strategy or a spectacular failure? The numbers speak for themselves. \n",
        "\n",
        "This simple backtest is made as a foundation for higher research and testing. \n",
        "We can now build upon this strategy in many ways:\n",
        "\n",
        "*   **Different Calculation Methods:** Instead of an `expanding` window, we could use a `rolling` window to only consider the last N candles.\n",
        "*   **Smarter Filtering:** We could filter the historical data to only calculate quantiles during high-volatility periods, for example.\n",
        "*   **Optimization:** We can run this backtest hundreds of times to find the *optimal* quantile percentages for TP and SL. (good foreshadowing)\n",
        "\n",
        "I would not consider this perfect, but it seems like an okay start. We've successfully turned a statistical idea into a testable hypothesis, which is a step forward."
      ]
    }
  ],
  "metadata": {
    "kernelspec": {
      "display_name": ".venv",
      "language": "python",
      "name": "python3"
    },
    "language_info": {
      "codemirror_mode": {
        "name": "ipython",
        "version": 3
      },
      "file_extension": ".py",
      "mimetype": "text/x-python",
      "name": "python",
      "nbconvert_exporter": "python",
      "pygments_lexer": "ipython3",
      "version": "3.10.9"
    }
  },
  "nbformat": 4,
  "nbformat_minor": 5
}
