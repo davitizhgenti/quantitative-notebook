{
  "cells": [
    {
      "cell_type": "markdown",
      "id": "intro_optimization",
      "metadata": {},
      "source": [
        "# Heatmap: Backtesting Massively\n",
        "\n",
        "This is my favourite subtopic by far. I was tempted to put it with the first backtest notebook, but this just seems too special to me.\n",
        "\n",
        "A single backtest is like one data point—interesting, but it's not the whole story. To *really* understand our strategy, we need to stress-test it against all the parameters we can think of. This is **optimization**, and it's where the magic happens.\n",
        "\n",
        "A word of warning: this process can be resource-intensive and annoying as hell. That's why I'll try my best to make the code clear and efficient."
      ]
    },
    {
      "cell_type": "code",
      "execution_count": null,
      "id": "pip_install_cell",
      "metadata": {},
      "outputs": [],
      "source": [
        "%pip install backtesting pandas numpy yfinance matplotlib seaborn"
      ]
    },
    {
      "cell_type": "markdown",
      "id": "strategy_intro",
      "metadata": {},
      "source": [
        "### The Strategy\n",
        "\n",
        "We'll use the same `QuantileStrategy` concept as before."
      ]
    },
    {
      "cell_type": "code",
      "execution_count": null,
      "id": "strategy_code_cell",
      "metadata": {},
      "outputs": [],
      "source": [
        "import math\n",
        "import pandas as pd\n",
        "from backtesting import Strategy\n",
        "\n",
        "class QuantileStrategy(Strategy):\n",
        "    h_percentile = None  # Take Profit quantile\n",
        "    l_percentile = None  # Stop Loss quantile\n",
        "    mode = \"long\"        # \"long\" or \"short\"\n",
        "\n",
        "    @staticmethod\n",
        "    def default_func(series: pd.Series, q: float) -> pd.Series:\n",
        "        \"\"\"Expanding quantile of a series.\"\"\"\n",
        "        return series.expanding(min_periods=10).quantile(q)\n",
        "\n",
        "    func = default_func\n",
        "\n",
        "    def init(self):\n",
        "        self.mode_coef = 1 if self.mode == \"long\" else -1\n",
        "        self.mode_trade = self.buy if self.mode == \"long\" else self.sell\n",
        "\n",
        "        o, h, l = self.data.Open, self.data.High, self.data.Low\n",
        "\n",
        "        # Relative intrabar moves, shifted to avoid lookahead bias\n",
        "        h_move = pd.Series((h - o) / o).shift(1)\n",
        "        l_move = pd.Series((o - l) / o).shift(1)\n",
        "\n",
        "        # Dynamic thresholds\n",
        "        self.h_threshold = self.I(self.func, h_move, self.h_percentile) if self.h_percentile else None\n",
        "        self.l_threshold = self.I(self.func, l_move, self.l_percentile) if self.l_percentile else None\n",
        "\n",
        "    def next(self):\n",
        "        if len(self.data) < 10:\n",
        "            return\n",
        "\n",
        "        price = self.data.Close[-1]\n",
        "        h, l = self.h_threshold[-1], self.l_threshold[-1]\n",
        "\n",
        "        if pd.isna(h) and pd.isna(l):\n",
        "            return\n",
        "\n",
        "        # If a percentile is None, set TP/SL to infinity\n",
        "        tp = price * (1 + h * self.mode_coef) if h is not None else math.inf * self.mode_coef\n",
        "        sl = price * (1 - l * self.mode_coef) if l is not None else -math.inf * self.mode_coef\n",
        "\n",
        "        if self.position:\n",
        "            self.position.close()\n",
        "\n",
        "        # Sanity check: don't enter a trade if price is already outside SL/TP\n",
        "        if sl * self.mode_coef < price * self.mode_coef < tp * self.mode_coef:\n",
        "            self.mode_trade(\n",
        "                tp=None if math.isinf(tp) else tp,\n",
        "                sl=None if math.isinf(sl) else sl,\n",
        "                size=1,\n",
        "            )"
      ]
    },
    {
      "cell_type": "markdown",
      "id": "optimization_markdown",
      "metadata": {},
      "source": [
        "### The Main Event: The Optimization Run\n",
        "\n",
        "Now for the fun part. We'll define a range of percentiles for both our Take Profit (`h_percentile`) and Stop Loss (`l_percentile`). Then, we unleash `backtesting.py`'s `optimize` function to do the heavy lifting. It will run a backtest for every single combination and return a 'heatmap' of the results, showing us which parameters produced the best (or worst) 'Win Rate [%]'."
      ]
    },
    {
      "cell_type": "code",
      "execution_count": null,
      "id": "optimization_code_cell",
      "metadata": {},
      "outputs": [],
      "source": [
        "import numpy as np\n",
        "import yfinance as yf\n",
        "from backtesting import Backtest\n",
        "\n",
        "# Let's grab some data for Gold again.\n",
        "tickers = [\"GC=F\"]\n",
        "period = \"1mo\"\n",
        "interval = \"1h\"\n",
        "\n",
        "# --- Optimization Parameters ---\n",
        "mode = \"long\"\n",
        "column_to_maximize = \"Win Rate [%]\"\n",
        "resolution = 10 # How many steps to test between 0 and 1\n",
        "percentiles = list(np.round(np.linspace(0.01, 1, resolution), 2))\n",
        "\n",
        "print(\"Fetching data for the grand experiment...\")\n",
        "data = yf.download(tickers=tickers, period=period, interval=interval, multi_level_index=False)\n",
        "\n",
        "# Initialize the backtest environment.\n",
        "bt = Backtest(data, QuantileStrategy, cash=10000, finalize_trades=True)\n",
        "\n",
        "# Run the optimization!\n",
        "stats, heatmap = bt.optimize(\n",
        "    mode=mode,\n",
        "    h_percentile=percentiles,\n",
        "    l_percentile=percentiles,\n",
        "    maximize=column_to_maximize,\n",
        "    return_heatmap=True\n",
        ")\n",
        "\n",
        "print(\"\\nOptimization Complete! Here's a look at the raw heatmap data:\")\n",
        "heatmap"
      ]
    },
    {
      "cell_type": "markdown",
      "id": "heatmap_analysis_markdown",
      "metadata": {},
      "source": [
        "### Reverse-Engineering the Results\n",
        "\n",
        "This heatmap data maps every parameter combination to a specific result. This is powerful because we can work backwards. Instead of asking 'What's the best win rate?', we can ask, 'If I want a ~46% win rate, what are all the parameter combinations that can get me there?'.\n",
        "\n",
        "Let's write a quick script to find out."
      ]
    },
    {
      "cell_type": "code",
      "execution_count": 41,
      "id": "find_matches_cell",
      "metadata": {},
      "outputs": [
        {
          "name": "stdout",
          "output_type": "stream",
          "text": [
            "Found matching parameters for a Win Rate of ~46%\n",
            "  - mode: long, h_percentile: 0.23, l_percentile: 0.56, Win Rate: 45.14%\n",
            "  - mode: long, h_percentile: 0.45, l_percentile: 0.67, Win Rate: 45.84%\n",
            "  - mode: long, h_percentile: 0.78, l_percentile: 0.78, Win Rate: 45.23%\n",
            "  - mode: long, h_percentile: 1.0, l_percentile: 0.78, Win Rate: 45.03%\n"
          ]
        }
      ],
      "source": [
        "import numpy as np\n",
        "\n",
        "# Set our target value\n",
        "target_value = 46\n",
        "tolerance = 1 # How close to the target is acceptable (e.g., +/- 1%)\n",
        "\n",
        "# Find all parameter sets that match our target\n",
        "matches = []\n",
        "for params, result_value in heatmap.items():\n",
        "    mode, h, l = params  # unpack the parameters\n",
        "    if np.isclose(result_value, target_value, atol=tolerance):\n",
        "        matches.append((mode, h, l, result_value))\n",
        "\n",
        "# Print the results nicely\n",
        "if matches:\n",
        "    print(f\"Found matching parameters for a Win Rate of ~{target_value}%\")\n",
        "    for mode, h, l, wr in matches:\n",
        "        print(f\"  - mode: {mode}, h_percentile: {h}, l_percentile: {l}, Win Rate: {wr:.2f}%\")\n",
        "else:\n",
        "    print(f\"No matches found for a Win Rate of ~{target_value}%\")"
      ]
    },
    {
      "cell_type": "markdown",
      "id": "visualization_markdown",
      "metadata": {},
      "source": [
        "### A Picture is Worth a Thousand Backtests\n",
        "\n",
        "As cool as that was, a list of numbers doesn't really help us see the *pattern*. For that, we need an actual picture. Let's visualize the heatmap with `matplotlib` and `seaborn` to see how the Take Profit and Stop Loss percentiles interact."
      ]
    },
    {
      "cell_type": "code",
      "execution_count": null,
      "id": "plot_heatmap_cell",
      "metadata": {},
      "outputs": [],
      "source": [
        "import seaborn as sns\n",
        "import matplotlib.pyplot as plt\n",
        "\n",
        "# Reshape the data into a 2D grid for plotting\n",
        "heatmap_grid = heatmap.reset_index().pivot(\n",
        "    index='h_percentile', \n",
        "    columns='l_percentile', \n",
        "    values=heatmap.name\n",
        ")\n",
        "\n",
        "plt.figure(figsize=(10, 8))\n",
        "sns.heatmap(heatmap_grid, cmap='viridis', annot=True, fmt=\".1f\")\n",
        "plt.title('Win Rate [%] vs. TP/SL Percentiles')\n",
        "plt.show()"
      ]
    },
    {
      "cell_type": "markdown",
      "id": "conclusion_markdown",
      "metadata": {},
      "source": [
        "### Final Observation: A Hint of Thermodynamics?\n",
        "\n",
        "Now, *this* is an interesting picture. The visualization shows a clear structure and relationship between the parameters and the outcome. \n",
        "\n",
        "As we increase the resolution of the test, this picture starts to look less like random noise and more like a heat transfer map on a 2D plane. We can see 'hot zones' of high win rates and 'cold zones' of low ones, with smooth gradients in between.\n",
        "\n",
        "Is this just a coincidence for this specific market and timeframe, or does it hint at a general correlation with thermodynamics and market dynamics? I have an educated hunch it's the latter."
      ]
    }
  ],
  "metadata": {
    "kernelspec": {
      "display_name": ".venv",
      "language": "python",
      "name": "python3"
    },
    "language_info": {
      "codemirror_mode": {
        "name": "ipython",
        "version": 3
      },
      "file_extension": ".py",
      "mimetype": "text/x-python",
      "name": "python",
      "nbconvert_exporter": "python",
      "pygments_lexer": "ipython3",
      "version": "3.10.9"
    }
  },
  "nbformat": 4,
  "nbformat_minor": 5
}
