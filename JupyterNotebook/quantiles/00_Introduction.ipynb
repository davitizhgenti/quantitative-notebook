{
  "cells": [
    {
      "cell_type": "markdown",
      "id": "intro_confessions",
      "metadata": {},
      "source": [
        "# My introduction into Algorithmic Trading: A Not-So-Dumb Strategy\n",
        "\n",
        "### Gut Trading\n",
        "\n",
        "Now, when I started trading, I first tried to trade using my gut. This was probably the biggest mistake I've ever made, but it also taught me a lot about trading and how small I was in comparison with big institutions and educated, experienced people that were making billions. Once my \"gambling\" phase made me hit the rock bottom of my portfolio, I realized some kind of strategy needed to be made. My gut, it turned out, was mostly concerned with what to have for lunch."
      ]
    },
    {
      "cell_type": "markdown",
      "id": "intro_brilliant_idea",
      "metadata": {},
      "source": [
        "### The First \"Brilliant\" Idea: The 99% Win-Rate to Ruin\n",
        "\n",
        "The first idea I had for a strategy was a simple one: trade small and safe. Sounds smart, right? It seemed simple at first, until you have a 99% win rate with a P/L of -500. The issue I recognized was that my wins were too small to cover my one, catastrophic loss. I was picking up pennies in front of a steamroller.\n",
        "\n",
        "Since I wanted to optimize this strategy with programming, I needed a way to quantify my decisions. This is where the real journey began. For this exploration, I will mostly be using `backtesting.py`, `pandas`, `matplotlib`, and `numpy`."
      ]
    },
    {
      "cell_type": "markdown",
      "id": "step_1_markdown",
      "metadata": {},
      "source": [
        "### Step 1: Asking the Right Question - What's a \"Normal\" Price Move?\n",
        "\n",
        "My first real question was simple: how much does the price *actually* move up or down within a single candle, statistically speaking? If I could figure that out, maybe I could set a Take Profit and Stop Loss that wasn't just a random guess.\n",
        "\n",
        "First, let's get the boring setup out of the way. We need to install and import some libraries to grab our data."
      ]
    },
    {
      "cell_type": "code",
      "execution_count": null,
      "id": "pip_install_cell",
      "metadata": {},
      "outputs": [],
      "source": [
        "%pip install yfinance pandas matplotlib"
      ]
    },
    {
      "cell_type": "code",
      "execution_count": null,
      "id": "get_diffs_cell",
      "metadata": {},
      "outputs": [],
      "source": [
        "# GetDiffs.note\n",
        "import yfinance as yf\n",
        "import pandas as pd\n",
        "\n",
        "# Let's look at Gold Futures (GC=F). Why gold? Because it's cool.\n",
        "# We'll grab one month of hourly data.\n",
        "tickers = [\"GC=F\"]\n",
        "period = \"1mo\"\n",
        "interval = \"1h\"\n",
        "\n",
        "data = yf.download(tickers=tickers, period=period, interval=interval)\n",
        "\n",
        "# Let's get our standard candle data\n",
        "o = data[\"Open\"]\n",
        "h = data[\"High\"]\n",
        "l = data[\"Low\"]\n",
        "c = data[\"Close\"]\n",
        "\n",
        "# How far did the price shoot up from the open?\n",
        "h_diff = h - o\n",
        "\n",
        "# And how far did it plummet from the open?\n",
        "l_diff = o - l\n",
        "\n",
        "print(\"\\nHere are the raw price movements up and down from the open:\")\n",
        "h_diff, l_diff # Return differences"
      ]
    },
    {
      "cell_type": "markdown",
      "id": "step_2_markdown",
      "metadata": {},
      "source": [
        "### Step 2: Let's Visualize This Chaos\n",
        "\n",
        "Now that we have these raw numbers, they don't mean much on their own. We need to see them as a distribution to understand which price movements happen the most often. The idea is to set our take-profit (TP) and stop-loss (SL) based on what's probable.\n",
        "\n",
        "Let's plot this chaos."
      ]
    },
    {
      "cell_type": "code",
      "execution_count": null,
      "id": "plot_diffs_cell",
      "metadata": {},
      "outputs": [],
      "source": [
        "# PlotDiffs.note\n",
        "import matplotlib.pyplot as plt\n",
        "\n",
        "# We'll create two plots (subplots), one for the ups and one for the downs.\n",
        "fig, (ax1, ax2) = plt.subplots(2, 1, figsize=(8, 6))\n",
        "bins = 75 # How many bars our histogram will have. More bins = more detail.\n",
        "\n",
        "# --- First subplot: The Green Zone (Upward Movement) ---\n",
        "ax1.hist(h_diff, bins=bins, color='green')\n",
        "ax1.set_title(\"Distribution of Upward Price Moves (Open to High)\")\n",
        "ax1.set_xlabel(\"Price Difference ($)\")\n",
        "ax1.set_ylabel(\"Frequency\")\n",
        "\n",
        "# --- Second subplot: The Red Zone (Downward Movement) ---\n",
        "ax2.hist(l_diff, bins=bins, color='red')\n",
        "ax2.set_title(\"Distribution of Downward Price Moves (Open to Low)\")\n",
        "ax2.set_xlabel(\"Price Difference ($)\")\n",
        "ax2.set_ylabel(\"Frequency\")\n",
        "\n",
        "plt.tight_layout() # Makes sure our titles and labels don't overlap\n",
        "plt.show()"
      ]
    },
    {
      "cell_type": "markdown",
      "id": "step_3_markdown",
      "metadata": {},
      "source": [
        "### Step 3: The Normalization Epiphany - From Dollars to Percentages\n",
        "\n",
        "Immediately, I hit a snag. As you can see from the charts, the most common move is a few dollars. That's great for Gold, but what if I wanted to trade Bitcoin, where a move is hundreds of dollars? Or a stock that moves by cents? This strategy isn't universal at all. The raw dollar value is useless.\n",
        "\n",
        "For this, I needed a universal yardstick. The solution was simple normalization: looking at these movements as a *percentage* of the opening price."
      ]
    },
    {
      "cell_type": "code",
      "execution_count": null,
      "id": "normalization_cell",
      "metadata": {},
      "outputs": [],
      "source": [
        "# Let's turn those raw dollar moves into percentages\n",
        "# (How much it moved) / (What it started at)\n",
        "h_pct = h_diff / o\n",
        "l_pct = l_diff / o\n",
        "\n",
        "print(\"Here are the percentage movements:\")\n",
        "h_pct, l_pct"
      ]
    },
    {
      "cell_type": "markdown",
      "id": "plot_pct_markdown",
      "metadata": {},
      "source": [
        "And if we plot this new, improved data, it should give us a much more universal picture."
      ]
    },
    {
      "cell_type": "code",
      "execution_count": null,
      "id": "plot_pcts_cell",
      "metadata": {},
      "outputs": [],
      "source": [
        "# PlotPcts.note\n",
        "import matplotlib.pyplot as plt\n",
        "\n",
        "fig, (ax1, ax2) = plt.subplots(2, 1, figsize=(8, 6))\n",
        "bins = 75\n",
        "\n",
        "# --- First subplot: The Green Zone (Percentage) ---\n",
        "ax1.hist(h_pct, bins=bins, color='green')\n",
        "ax1.set_title(\"Normalized Distribution of Upward Price Moves (in %)\")\n",
        "ax1.set_xlabel(\"Percentage Move (%)\")\n",
        "ax1.set_ylabel(\"Frequency\")\n",
        "\n",
        "# --- Second subplot: The Red Zone (Percentage) ---\n",
        "ax2.hist(l_pct, bins=bins, color='red')\n",
        "ax2.set_title(\"Normalized Distribution of Downward Price Moves (in %)\")\n",
        "ax2.set_xlabel(\"Percentage Move (%)\")\n",
        "ax2.set_ylabel(\"Frequency\")\n",
        "\n",
        "plt.tight_layout()\n",
        "plt.show()"
      ]
    },
    {
      "cell_type": "markdown",
      "id": "step_4_markdown",
      "metadata": {},
      "source": [
        "### Step 4: Quantifying \"Probably\" with Quantiles\n",
        "\n",
        "This is much better. Now I have a general idea of where to put my TP/SLs on any asset. I could put my TP where a move is most likely, and my SL where it's less so. But \"eyeballing it\" isn't exactly a robust strategy. I needed to quantify how often these values *actually* appear.\n",
        "\n",
        "That's why we bring in the professionals: **quantiles**.\n",
        "\n",
        "In simple terms, a quantile tells you the value below which a certain percentage of your data falls. For example, the 0.5 quantile (the median) is the value that is bigger than 50% of all other values. This gives us a concrete number to work with."
      ]
    },
    {
      "cell_type": "code",
      "execution_count": null,
      "id": "quantile_cell",
      "metadata": {},
      "outputs": [],
      "source": [
        "# Let's find the 50th percentile (the median)\n",
        "percentage = 0.5\n",
        "\n",
        "h_quantile = h_pct.quantile(percentage)\n",
        "l_quantile = l_pct.quantile(percentage)\n",
        "\n",
        "print(f\"The 50% quantile for upward moves is: {h_quantile:.4f}%\")\n",
        "print(f\"The 50% quantile for downward moves is: {l_quantile:.4f}%\")\n",
        "\n",
        "h_quantile, l_quantile"
      ]
    },
    {
      "cell_type": "markdown",
      "id": "conclusion_markdown",
      "metadata": {},
      "source": [
        "### Conclusion: A Foundation is Laid... But is the House Stable?\n",
        "\n",
        "So, what does this all mean? In theory, the numbers above tell us that 50% of the time, the price moves up by `h_quantile` or less, and down by `l_quantile` or less. This gives us a statistical foundation. We can now say, \"I'll set my Take Profit at the 50% quantile because it's a commonly reached level.\"\n",
        "\n",
        "This is a huge leap from trading on a gut feeling. We've used data to find a probable range of movement for an asset.\n",
        "\n",
        "Of course, this is just the beginning. The idea that this resembles a \"chance\" of being hit is a massive oversimplification (as we'll find out). The next logical step is to take this concept and build a simple strategy around it to backtest. Only then will we see if this statistical observation can actually be turned into a profitable (or at least, not disastrous) trading bot. The foundation is laid, but now we have to actually build the house and see if it stands up."
      ]
    }
  ],
  "metadata": {
    "kernelspec": {
      "display_name": ".venv",
      "language": "python",
      "name": "python3"
    },
    "language_info": {
      "codemirror_mode": {
        "name": "ipython",
        "version": 3
      },
      "file_extension": ".py",
      "mimetype": "text/x-python",
      "name": "python",
      "nbconvert_exporter": "python",
      "pygments_lexer": "ipython3",
      "version": "3.10.9"
    }
  },
  "nbformat": 4,
  "nbformat_minor": 5
}
