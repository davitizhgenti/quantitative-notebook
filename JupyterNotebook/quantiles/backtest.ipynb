{
  "cells": [
    {
      "cell_type": "markdown",
      "id": "intro_and_recap",
      "metadata": {},
      "source": [
        "# From Theory to Practice: Backtesting Our Quantile Idea\n",
        "\n",
        "### So, Do Quantiles Actually Work?\n",
        "\n",
        "In the last notebook, we came up with a neat idea: use quantiles to figure out a \"probable\" range for a candle's price movement. The logical next step is to ask the million-dollar question: can we actually make money with this?\n",
        "\n",
        "To find out, I've used backtesting to see how different high/low percentile choices affect the win rate. Now, I understand this is a quiet, simple, and flawed representation of how the market works, but it's a starting point. And as we'll see, even simple models can show some interesting data. Let's build a strategy using the `backtesting.py` library and see if our theory holds any water."
      ]
    },
    {
      "cell_type": "code",
      "execution_count": null,
      "id": "pip_install_backtesting",
      "metadata": {},
      "outputs": [],
      "source": [
        "# First, let's get the necessary tools for the job.\n",
        "%pip install backtesting yfinance pandas"
      ]
    },
    {
      "cell_type": "markdown",
      "id": "strategy_explanation",
      "metadata": {},
      "source": [
        "### Building the strategy\n",
        "\n",
        "Here's the game plan. We'll create a strategy that does the following for every candle:\n",
        "1.  **Look Back:** It will look at all the *past* candles to calculate the percentage price moves (just like we did manually).\n",
        "2.  **Calculate Quantiles:** Based on that history, it will calculate a quantile value (e.g., the 50th percentile) for both upward and downward moves. This gives us our dynamic thresholds.\n",
        "3.  **Set TP and SL:** It will place a new trade using the current price and set a Take Profit (TP) and Stop Loss (SL) based on those quantile thresholds.\n",
        "\n",
        "The beauty is that the TP and SL are no longer fixed numbers; they adapt as the bot sees more and more data. Let's code it up."
      ]
    },
    {
      "cell_type": "code",
      "execution_count": null,
      "id": "strategy_code",
      "metadata": {},
      "outputs": [],
      "source": [
        "import yfinance as yf\n",
        "import pandas as pd\n",
        "from backtesting import Strategy, Backtest\n",
        " \n",
        "# This is our lovely trading bot, QuantileStrategy.\n",
        "class QuantileStrategy(Strategy):  \n",
        "    # We can tell the bot which quantile to use for TP and SL.\n",
        "    h_percentile = None # Our Take Profit quantile\n",
        "    l_percentile = None # Our Stop Loss quantile\n",
        "    mode = \"long\" # Let's just focus on buying for now\n",
        "\n",
        "    # This function defines HOW we calculate the quantile. \n",
        "    # 'expanding' means it uses all history from the start.\n",
        "    @staticmethod\n",
        "    def default_func(series: pd.Series, q: float) -> pd.Series:\n",
        "        return series.expanding(min_periods=10).quantile(q)\n",
        "\n",
        "    func = default_func  # We can override this later for more complex ideas.\n",
        "\n",
        "    # The 'init' method is the bot's morning coffee. It runs once at the start to set everything up.\n",
        "    def init(self):\n",
        "        self.mode_coef = 1 if self.mode == \"long\" else -1\n",
        "        self.mode_trade = self.buy if self.mode == \"long\" else self.sell\n",
        "\n",
        "        o = self.data.Open\n",
        "        h = self.data.High\n",
        "        l = self.data.Low\n",
        "\n",
        "        # Calculate the relative intrabar moves, just like in the last notebook.\n",
        "        # .shift(1) is CRUCIAL. It prevents us from using the current candle's data to make a decision (no cheating!).\n",
        "        h_move = pd.Series((h - o) / o).shift(1) \n",
        "        l_move = pd.Series((o - l) / o).shift(1) \n",
        "        \n",
        "        # Here, we calculate our dynamic TP and SL thresholds for the entire dataset.\n",
        "        self.h_threshold = self.I(self.func, h_move, self.h_percentile) if self.h_percentile is not None else None\n",
        "        self.l_threshold = self.I(self.func, l_move, self.l_percentile) if self.l_percentile is not None else None\n",
        "\n",
        "    # The 'next' method is the main loop. It runs for every candle and asks, \"What do we do now?\"\n",
        "    def next(self):\n",
        "        # Wait until we have enough data to make a meaningful calculation.\n",
        "        if len(self.data) < 10:\n",
        "            return\n",
        "\n",
        "        price = self.data.Close # Use the last closing price as our entry point.\n",
        "        h = self.h_threshold # Get the most recent quantile value.\n",
        "        l = self.l_threshold\n",
        "\n",
        "        if pd.isna(h) and pd.isna(l):\n",
        "            return\n",
        "\n",
        "        # Calculate the actual TP and SL prices.\n",
        "        tp = price * (1 + h * self.mode_coef) if h is not None else None\n",
        "        sl = price * (1 - l * self.mode_coef) if l is not None else None\n",
        "\n",
        "        # Close any open trade before starting a new one.\n",
        "        self.position.close()\n",
        "        \n",
        "        # Execute the trade! Let's see what happens.\n",
        "        self.mode_trade(tp=tp, sl=sl, size=1)"
      ]
    },
    {
      "cell_type": "markdown",
      "id": "backtest_execution_markdown",
      "metadata": {},
      "source": [
        "### The Moment of Truth\n",
        "\n",
        "Alright, the bot is coded. It's time to download some fresh data, plug in our strategy, and see how much theoretical money we made (or, more likely, lost). We'll start by setting our Stop Loss at the 50th percentile, meaning we're placing it at the *median* down move. For now, we'll leave the Take Profit open."
      ]
    },
    {
      "cell_type": "code",
      "execution_count": null,
      "id": "backtest_execution_code",
      "metadata": {},
      "outputs": [],
      "source": [
        "# Let's grab some data for Gold again.\n",
        "tickers = [\"GC=F\"]\n",
        "period = \"1mo\"\n",
        "interval = \"1h\"\n",
        "\n",
        "print(\"Fetching data for the grand experiment...\")\n",
        "data = yf.download(tickers=tickers, period=period, interval=interval, multi_level_index=False)\n",
        "\n",
        "# Initialize the backtest environment.\n",
        "bt = Backtest(data, QuantileStrategy, cash=10000, commission=.002)\n",
        "\n",
        "# Run the backtest. We'll set the stop-loss percentile to 0.5 (the 50% quantile).\n",
        "result = bt.run(h_percentile=0.5)\n",
        "\n",
        "print(\"\\n--- Backtest Results ---\")\n",
        "print(result)"
      ]
    },
    {
      "cell_type": "markdown",
      "id": "conclusion_and_future",
      "metadata": {},
      "source": [
        "### The Verdict and What's Next\n",
        "\n",
        "So, there are the results. Genius strategy or a spectacular failure? The numbers speak for themselves. \n",
        "\n",
        "This simple backtest is made as a foundation for higher research and testing. \n",
        "We can now build upon this strategy in many ways:\n",
        "\n",
        "*   **Different Calculation Methods:** Instead of an `expanding` window, we could use a `rolling` window to only consider the last N candles.\n",
        "*   **Smarter Filtering:** We could filter the historical data to only calculate quantiles during high-volatility periods, for example.\n",
        "*   **Optimization:** We can run this backtest hundreds of times to find the *optimal* quantile percentages for TP and SL. (good foreshadowing)\n",
        "\n",
        "I would not consider this perfect, but it seems like an okay start. We've successfully turned a statistical idea into a testable hypothesis, which is a step forward."
      ]
    }
  ],
  "metadata": {
    "kernelspec": {
      "display_name": ".venv",
      "language": "python",
      "name": "python3"
    },
    "language_info": {
      "codemirror_mode": {
        "name": "ipython",
        "version": 3
      },
      "file_extension": ".py",
      "mimetype": "text/x-python",
      "name": "python",
      "nbconvert_exporter": "python",
      "pygments_lexer": "ipython3",
      "version": "3.10.9"
    }
  },
  "nbformat": 4,
  "nbformat_minor": 5
}
